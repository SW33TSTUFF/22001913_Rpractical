{
 "cells": [
  {
   "cell_type": "code",
   "execution_count": null,
   "id": "9275ed52-e09c-483b-89c9-e69d586e4b72",
   "metadata": {},
   "outputs": [],
   "source": []
  }
 ],
 "metadata": {
  "kernelspec": {
   "display_name": "",
   "name": ""
  },
  "language_info": {
   "name": ""
  }
 },
 "nbformat": 4,
 "nbformat_minor": 5
}
